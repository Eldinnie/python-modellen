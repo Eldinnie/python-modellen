{
 "cells": [
  {
   "cell_type": "markdown",
   "metadata": {},
   "source": [
    "# Inleiding\n",
    "\n",
    "In dit document vind je een aantal stukken waar je niets aan moet veranderen om het model te laten werken, en een aantal secties waar je parameters kunt veranderen.\n",
    "aan het einde van sommige regels staat een `#` met daarachter uitleg over waar die regel voor dient.\n",
    "\n",
    "### Model uitvoeren\n",
    "Als je alles hebt ingevoerd zoals je wil klik dan boven in het menu op `Cell -> Run All`"
   ]
  },
  {
   "cell_type": "markdown",
   "metadata": {},
   "source": [
    "## Parameters\n",
    "Voer hieronder de parameters voor je model in. Let op dat je een punt (`.`) moet gebruiken in plaats van een komma."
   ]
  },
  {
   "cell_type": "code",
   "execution_count": null,
   "metadata": {
    "collapsed": true
   },
   "outputs": [],
   "source": [
    "g = 9.81        # Valversnelling \n",
    "m = 12          # massa\n",
    "\n",
    "h_start = 2000  # Starthoogte\n",
    "v_start = 0     # Beginsnelheid\n",
    "\n",
    "t_start = 0     # Begintijd (t 0)\n",
    "t_eind = 40     # Eindtijd (t eind)\n",
    "dt = 0.01       # Stapgroote voor de tijd in seconden. (0.01 is 10 miliseconden)\n",
    "k = 0           "
   ]
  },
  {
   "cell_type": "markdown",
   "metadata": {},
   "source": [
    "------\n",
    "Het volgende blok **niet wijzigen**"
   ]
  },
  {
   "cell_type": "code",
   "execution_count": null,
   "metadata": {
    "collapsed": true
   },
   "outputs": [],
   "source": [
    "import matplotlib.pyplot as plt\n",
    "import numpy as np\n",
    "%matplotlib inline\n",
    "\n",
    "t_list = []\n",
    "h_list = []\n",
    "v_list = []\n",
    "\n",
    "t = t_start\n",
    "h = h_start\n",
    "v = v_start\n",
    "\n",
    "h_list.append([t_start, h_start])\n",
    "v_list.append([t_start, v_start])"
   ]
  },
  {
   "cell_type": "markdown",
   "metadata": {},
   "source": [
    "## Berekening\n",
    "het blok hieronder voert de berekeningen uit. Zie de commentaren bij de regel voor een uitleg"
   ]
  },
  {
   "cell_type": "code",
   "execution_count": null,
   "metadata": {
    "collapsed": true
   },
   "outputs": [],
   "source": [
    "while t < t_eind and h > 0:  # Voer wat hierna komt uit todat t == t eind of de hoogte nul is\n",
    "    Fz = - m * g             # zwaartekracht\n",
    "    Fw = k * v * v           # wrijvingskracht\n",
    "    F_res = Fz + Fw          # resultante kracht\n",
    "    a = F_res / m            # versnelling\n",
    "\n",
    "    h = h + v * dt           # Hoogte\n",
    "    v = v + a * dt           # Snelheid\n",
    "    t = t + dt               # tijd\n",
    "\n",
    "    h_list.append([t, h])    # Data toevoegen voor grafiek \n",
    "    v_list.append([t, v])"
   ]
  },
  {
   "cell_type": "markdown",
   "metadata": {},
   "source": [
    "## Maak de hoogtegrafiek\n",
    "Hier kun je de titel en asnamen veranderen"
   ]
  },
  {
   "cell_type": "code",
   "execution_count": null,
   "metadata": {
    "collapsed": false
   },
   "outputs": [],
   "source": [
    "plt.figure(\"Hoogte\")\n",
    "plt.plot(*np.transpose(h_list))\n",
    "plt.xlabel('tijd (s)')\n",
    "plt.ylabel('hoogte (m)')\n",
    "plt.title('Hoogte')\n",
    "plt.grid(True)\n",
    "plt.show()"
   ]
  },
  {
   "cell_type": "markdown",
   "metadata": {},
   "source": [
    "## Maak de snelheidsgrafiek\n",
    "Hier kun je de titel en asnamen veranderen"
   ]
  },
  {
   "cell_type": "code",
   "execution_count": null,
   "metadata": {
    "collapsed": false
   },
   "outputs": [],
   "source": [
    "plt.figure(\"Snelheid\")\n",
    "plt.plot(*np.transpose(v_list))\n",
    "plt.xlabel('tijd (s)')\n",
    "plt.ylabel('snelheid (m/s)')\n",
    "plt.title('Snelheid')\n",
    "plt.grid(True)\n",
    "plt.show()"
   ]
  }
 ],
 "metadata": {
  "kernelspec": {
   "display_name": "Python 3",
   "language": "python",
   "name": "python3"
  },
  "language_info": {
   "codemirror_mode": {
    "name": "ipython",
    "version": 3
   },
   "file_extension": ".py",
   "mimetype": "text/x-python",
   "name": "python",
   "nbconvert_exporter": "python",
   "pygments_lexer": "ipython3",
   "version": "3.6.0"
  }
 },
 "nbformat": 4,
 "nbformat_minor": 2
}
