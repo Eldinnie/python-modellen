{
 "cells": [
  {
   "cell_type": "markdown",
   "metadata": {},
   "source": [
    "# Modelleren in python\n",
    "Onderstaande modellen zijn beschikbaar\n",
    "\n",
    "1. [Vrije val zonder wrijving](Vrij val zonder wrijving.ipynb) ([Werkblad](werkblad python experiment zonder wrijving.pdf))\n",
    "1. [Vrije val parachute](Vrije val parachute.ipynb) ([Werkblad](werkblad python experiment met wrijving.pdf))"
   ]
  }
 ],
 "metadata": {
  "kernelspec": {
   "display_name": "Python 3",
   "language": "python",
   "name": "python3"
  },
  "language_info": {
   "codemirror_mode": {
    "name": "ipython",
    "version": 3
   },
   "file_extension": ".py",
   "mimetype": "text/x-python",
   "name": "python",
   "nbconvert_exporter": "python",
   "pygments_lexer": "ipython3",
   "version": "3.6.0"
  }
 },
 "nbformat": 4,
 "nbformat_minor": 2
}
